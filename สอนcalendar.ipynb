{
 "cells": [
  {
   "cell_type": "code",
   "execution_count": 3,
   "metadata": {},
   "outputs": [
    {
     "name": "stdout",
     "output_type": "stream",
     "text": [
      "                                             2023\n",
      "\n",
      "          January                          February                          March\n",
      "Mon Tue Wed Thu Fri Sat Sun      Mon Tue Wed Thu Fri Sat Sun      Mon Tue Wed Thu Fri Sat Sun\n",
      "                          1                1   2   3   4   5                1   2   3   4   5\n",
      "  2   3   4   5   6   7   8        6   7   8   9  10  11  12        6   7   8   9  10  11  12\n",
      "  9  10  11  12  13  14  15       13  14  15  16  17  18  19       13  14  15  16  17  18  19\n",
      " 16  17  18  19  20  21  22       20  21  22  23  24  25  26       20  21  22  23  24  25  26\n",
      " 23  24  25  26  27  28  29       27  28                           27  28  29  30  31\n",
      " 30  31\n",
      "\n",
      "           April                             May                              June\n",
      "Mon Tue Wed Thu Fri Sat Sun      Mon Tue Wed Thu Fri Sat Sun      Mon Tue Wed Thu Fri Sat Sun\n",
      "                      1   2        1   2   3   4   5   6   7                    1   2   3   4\n",
      "  3   4   5   6   7   8   9        8   9  10  11  12  13  14        5   6   7   8   9  10  11\n",
      " 10  11  12  13  14  15  16       15  16  17  18  19  20  21       12  13  14  15  16  17  18\n",
      " 17  18  19  20  21  22  23       22  23  24  25  26  27  28       19  20  21  22  23  24  25\n",
      " 24  25  26  27  28  29  30       29  30  31                       26  27  28  29  30\n",
      "\n",
      "            July                            August                         September\n",
      "Mon Tue Wed Thu Fri Sat Sun      Mon Tue Wed Thu Fri Sat Sun      Mon Tue Wed Thu Fri Sat Sun\n",
      "                      1   2            1   2   3   4   5   6                        1   2   3\n",
      "  3   4   5   6   7   8   9        7   8   9  10  11  12  13        4   5   6   7   8   9  10\n",
      " 10  11  12  13  14  15  16       14  15  16  17  18  19  20       11  12  13  14  15  16  17\n",
      " 17  18  19  20  21  22  23       21  22  23  24  25  26  27       18  19  20  21  22  23  24\n",
      " 24  25  26  27  28  29  30       28  29  30  31                   25  26  27  28  29  30\n",
      " 31\n",
      "\n",
      "          October                          November                         December\n",
      "Mon Tue Wed Thu Fri Sat Sun      Mon Tue Wed Thu Fri Sat Sun      Mon Tue Wed Thu Fri Sat Sun\n",
      "                          1                1   2   3   4   5                        1   2   3\n",
      "  2   3   4   5   6   7   8        6   7   8   9  10  11  12        4   5   6   7   8   9  10\n",
      "  9  10  11  12  13  14  15       13  14  15  16  17  18  19       11  12  13  14  15  16  17\n",
      " 16  17  18  19  20  21  22       20  21  22  23  24  25  26       18  19  20  21  22  23  24\n",
      " 23  24  25  26  27  28  29       27  28  29  30                   25  26  27  28  29  30  31\n",
      " 30  31\n",
      "\n"
     ]
    }
   ],
   "source": [
    "#แสดงผลปฏิทินทั้งปี และกำหนดขนาดความกว้างและความสูงคอลัมภ์ได้\n",
    "import calendar\n",
    "print(calendar.calendar(2023,w=3,l=1))"
   ]
  },
  {
   "cell_type": "code",
   "execution_count": 4,
   "metadata": {},
   "outputs": [
    {
     "name": "stdout",
     "output_type": "stream",
     "text": [
      "False\n"
     ]
    }
   ],
   "source": [
    "#ปีนี้เป็นปีอธิกสุรทินหรือเปล่า\n",
    "\n",
    "print(calendar.isleap(2023))"
   ]
  },
  {
   "cell_type": "code",
   "execution_count": 6,
   "metadata": {},
   "outputs": [
    {
     "name": "stdout",
     "output_type": "stream",
     "text": [
      "    October 2023\n",
      "Mo Tu We Th Fr Sa Su\n",
      "                   1\n",
      " 2  3  4  5  6  7  8\n",
      " 9 10 11 12 13 14 15\n",
      "16 17 18 19 20 21 22\n",
      "23 24 25 26 27 28 29\n",
      "30 31\n",
      "\n"
     ]
    }
   ],
   "source": [
    "#จำนวนวันในเดือนนั้นนั้น\n",
    "print(calendar.month(2023,10))\n"
   ]
  },
  {
   "cell_type": "code",
   "execution_count": 10,
   "metadata": {},
   "outputs": [
    {
     "name": "stdout",
     "output_type": "stream",
     "text": [
      "(6, 31)\n"
     ]
    }
   ],
   "source": [
    "#แสดงวันแรกของเดือนและจำนวนวัน\n",
    "print(calendar.monthrange(2023,10))\n"
   ]
  },
  {
   "cell_type": "code",
   "execution_count": 12,
   "metadata": {},
   "outputs": [
    {
     "name": "stdout",
     "output_type": "stream",
     "text": [
      "Today is Tuesday\n"
     ]
    }
   ],
   "source": [
    "#วันนี้เป็นวันอะไร\n",
    "day=calendar.weekday(2023,10,3)\n",
    "if day==0:\n",
    "    print('Today is Monday')\n",
    "if day==1:\n",
    "    print('Today is Tuesday')\n",
    "if day==2:\n",
    "    print('Today is Wednesday')\n"
   ]
  },
  {
   "cell_type": "code",
   "execution_count": null,
   "metadata": {},
   "outputs": [],
   "source": [
    "\n"
   ]
  }
 ],
 "metadata": {
  "kernelspec": {
   "display_name": "Python 3",
   "language": "python",
   "name": "python3"
  },
  "language_info": {
   "codemirror_mode": {
    "name": "ipython",
    "version": 3
   },
   "file_extension": ".py",
   "mimetype": "text/x-python",
   "name": "python",
   "nbconvert_exporter": "python",
   "pygments_lexer": "ipython3",
   "version": "3.11.0 (v3.11.0:deaf509e8f, Oct 24 2022, 14:43:23) [Clang 13.0.0 (clang-1300.0.29.30)]"
  },
  "orig_nbformat": 4,
  "vscode": {
   "interpreter": {
    "hash": "aee8b7b246df8f9039afb4144a1f6fd8d2ca17a180786b69acc140d282b71a49"
   }
  }
 },
 "nbformat": 4,
 "nbformat_minor": 2
}
